{
 "cells": [
  {
   "cell_type": "code",
   "execution_count": 48,
   "metadata": {},
   "outputs": [],
   "source": [
    "import cv2\n",
    "import numpy as np\n",
    "from numpy import genfromtxt\n",
    "import matplotlib.pyplot as plt\n",
    "from sklearn.model_selection import train_test_split\n",
    "from sklearn.preprocessing import MinMaxScaler\n",
    "from sklearn.metrics import confusion_matrix,classification_report\n",
    "from keras.models import Sequential\n",
    "from keras.layers import Dense\n",
    "from keras.layers import Conv2D,MaxPooling2D,Flatten,Activation,Dropout\n",
    "from keras.models import load_model\n",
    "from keras.datasets import cifar10\n",
    "from keras.utils.np_utils import to_categorical\n",
    "from keras.preprocessing.image import ImageDataGenerator"
   ]
  },
  {
   "cell_type": "code",
   "execution_count": 49,
   "metadata": {},
   "outputs": [],
   "source": [
    "img = cv2.imread('D:/computer_vision/DATA/NEBULA_GALAXY/test/NEBULA/143008802.jpg')\n",
    "img = cv2.cvtColor(dog,cv2.COLOR_BGR2RGB)\n",
    "\n",
    "\n",
    "input_shape = (150,150,3)\n",
    "image_gen = ImageDataGenerator(rotation_range=30, # rotate the image 30 degrees\n",
    "                               width_shift_range=0.1, # Shift the pic width by a max of 10%\n",
    "                               height_shift_range=0.1, # Shift the pic height by a max of 10%\n",
    "                               rescale=1/255, # Rescale the image by normalzing it.\n",
    "                               shear_range=0.2, # Shear means cutting away part of the image (max 20%)\n",
    "                               zoom_range=0.2, # Zoom in by 20% max\n",
    "                               horizontal_flip=True, # Allo horizontal flipping\n",
    "                               fill_mode='nearest' # Fill in missing pixels with the nearest filled value\n",
    "                              )\n"
   ]
  },
  {
   "cell_type": "code",
   "execution_count": 50,
   "metadata": {},
   "outputs": [],
   "source": [
    "model = Sequential()\n",
    "model.add(Conv2D(filters=64,kernel_size=(3,3),input_shape=(150,150,3),activation='relu'))\n",
    "model.add(MaxPooling2D(pool_size=(2,2)))\n",
    "\n",
    "model.add(Conv2D(filters=64,kernel_size=(3,3),input_shape=(150,150,3),activation='relu'))\n",
    "model.add(MaxPooling2D(pool_size=(2,2)))\n",
    "\n",
    "model.add(Conv2D(filters=32,kernel_size=(3,3),input_shape=(150,150,3),activation='relu'))\n",
    "model.add(MaxPooling2D(pool_size=(2,2)))\n",
    "\n",
    "model.add(Flatten())\n",
    "\n",
    "model.add(Dense(128))\n",
    "model.add(Activation('relu'))\n",
    "\n",
    "model.add(Dropout(0.5))\n",
    "\n",
    "model.add(Dense(1))\n",
    "model.add(Activation('sigmoid'))\n",
    "\n",
    "model.compile(loss='binary_crossentropy', optimizer='adam', metrics=['accuracy'])\n"
   ]
  },
  {
   "cell_type": "code",
   "execution_count": 51,
   "metadata": {},
   "outputs": [
    {
     "name": "stdout",
     "output_type": "stream",
     "text": [
      "Found 385 images belonging to 2 classes.\n",
      "Found 152 images belonging to 2 classes.\n"
     ]
    },
    {
     "data": {
      "text/plain": [
       "{'GALAXY': 0, 'NEBULA': 1}"
      ]
     },
     "execution_count": 51,
     "metadata": {},
     "output_type": "execute_result"
    }
   ],
   "source": [
    "batch_size = 16 \n",
    "\n",
    "train_image_gen = image_gen.flow_from_directory('D:/computer_vision/DATA/NEBULA_GALAXY/train/',\n",
    "                                                 target_size=input_shape[:2],\n",
    "                                                batch_size=batch_size, class_mode='binary')\n",
    "test_image_gen = image_gen.flow_from_directory('D:/computer_vision/DATA/NEBULA_GALAXY/test/', target_size=input_shape[:2],\n",
    "                                                batch_size=batch_size, class_mode='binary')\n",
    "train_image_gen.class_indices"
   ]
  },
  {
   "cell_type": "code",
   "execution_count": 52,
   "metadata": {},
   "outputs": [
    {
     "name": "stdout",
     "output_type": "stream",
     "text": [
      "Epoch 1/4\n",
      "1000/1000 [==============================] - 302s 302ms/step - loss: 0.5369 - acc: 0.7156 - val_loss: 0.5539 - val_acc: 0.7763\n",
      "Epoch 2/4\n",
      "1000/1000 [==============================] - 316s 316ms/step - loss: 0.3854 - acc: 0.8247 - val_loss: 0.5105 - val_acc: 0.8026\n",
      "Epoch 3/4\n",
      "1000/1000 [==============================] - 312s 312ms/step - loss: 0.2375 - acc: 0.9022 - val_loss: 0.8124 - val_acc: 0.8355\n",
      "Epoch 4/4\n",
      "1000/1000 [==============================] - 321s 321ms/step - loss: 0.1743 - acc: 0.9322 - val_loss: 0.8145 - val_acc: 0.8947\n"
     ]
    }
   ],
   "source": [
    "train_image_gen.class_indices\n",
    "results = model.fit_generator(train_image_gen,epochs=4,steps_per_epoch=1000,validation_data=test_image_gen,validation_steps=12)"
   ]
  },
  {
   "cell_type": "code",
   "execution_count": 53,
   "metadata": {},
   "outputs": [
    {
     "data": {
      "text/plain": [
       "[<matplotlib.lines.Line2D at 0x1d79c8b0630>]"
      ]
     },
     "execution_count": 53,
     "metadata": {},
     "output_type": "execute_result"
    },
    {
     "data": {
      "image/png": "[encoded data removed]",
      "text/plain": [
       "<Figure size 432x288 with 1 Axes>"
      ]
     },
     "metadata": {
      "needs_background": "light"
     },
     "output_type": "display_data"
    }
   ],
   "source": [
    "results.history['acc']\n",
    "plt.plot(results.history['acc'])"
   ]
  },
  {
   "cell_type": "code",
   "execution_count": 63,
   "metadata": {},
   "outputs": [
    {
     "data": {
      "text/plain": [
       "array([[0]])"
      ]
     },
     "execution_count": 63,
     "metadata": {},
     "output_type": "execute_result"
    }
   ],
   "source": [
    "model.save('first_space.h5')\n",
    "new_model = load_model('first_space.h5')\n",
    "\n",
    "##predict\n",
    "\n",
    "image_test = 'D:/computer_vision/DATA/cv_test_final.jpg'\n",
    "\n",
    "from keras.preprocessing import image\n",
    "final_test_img = image.load_img(image_test,target_size=(150,150))\n",
    "final_test_img = image.img_to_array(final_test_img)\n",
    "\n",
    "final_test_img = np.expand_dims(final_test_img,axis=0)\n",
    "final_test_img = final_test_img/255\n",
    "\n",
    "model.predict_classes(final_test_img)\n"
   ]
  },
  {
   "cell_type": "code",
   "execution_count": 64,
   "metadata": {},
   "outputs": [
    {
     "data": {
      "text/plain": [
       "array([[0.48834348]], dtype=float32)"
      ]
     },
     "execution_count": 64,
     "metadata": {},
     "output_type": "execute_result"
    }
   ],
   "source": [
    "model.predict(final_test_img)"
   ]
  }
 ],
 "metadata": {
  "kernelspec": {
   "display_name": "python-cvcourse",
   "language": "python",
   "name": "python3"
  },
  "language_info": {
   "codemirror_mode": {
    "name": "ipython",
    "version": 3
   },
   "file_extension": ".py",
   "mimetype": "text/x-python",
   "name": "python",
   "nbconvert_exporter": "python",
   "pygments_lexer": "ipython3",
   "version": "3.6.6"
  }
 },
 "nbformat": 4,
 "nbformat_minor": 2
}
